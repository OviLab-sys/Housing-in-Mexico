{
 "cells": [
  {
   "cell_type": "code",
   "execution_count": 4,
   "id": "75997558-fbb8-4bbd-94b0-c23c050f93b3",
   "metadata": {},
   "outputs": [
    {
     "data": {
      "text/plain": [
       "(1982, 7)"
      ]
     },
     "execution_count": 4,
     "metadata": {},
     "output_type": "execute_result"
    }
   ],
   "source": [
    "import pandas as pd\n",
    "\n",
    "\n",
    "df1 = pd.read_csv(\"data/mexico-real-estate-1.csv\", sep=\"\\t\" )\n",
    "df2 = pd.read_csv(\"data/mexico-real-estate-2.csv\", sep=\"\\t\")\n",
    "df3 = pd.read_csv(\"data/mexico-real-estate-3.csv\", sep=\"\\t\")\n",
    "\n",
    "#removing both \"$\" and \",\" from the price column, as well as converting it to floating point values\n",
    "df1['price_usd'] = df1[\"price_usd\"].str.replace('$', '').str.replace(',','').astype(float)\n",
    "\n",
    "#converting price in mexican pessos to price in usd and droping the column of pricwe in mxn and add the price_usd\n",
    "df2[\"price_usd\"] = (df2[\"price_mxn\"]/19).round(2)\n",
    "df2.drop(columns = [\"price_mxn\"], inplace=True)\n",
    "\n",
    "###spliting columns with two feature combined, eg for the case of df3 we have lat-lon feature consisting of both latitude and longitude features\n",
    "df3[[\"lat\",\"lon\"]] = df3[\"lat-lon\"].str.split(\",\", expand=True)\n",
    "\n",
    "###droping NaN in df3 dataframe\n",
    "df3.dropna(inplace=True)\n",
    "\n",
    "###spliting a column with two combined features to create new seperate columns for the two features\n",
    "df3[[\"lat\",\"lon\"]] = df3[\"lat-lon\"].str.split(\",\", expand=True)  #expand= True tells pandas to treat the split strings as new columns\n",
    "\n",
    "df3[\"place_with_parent_names\"].str.split(\"|\", expand=True).head()\n",
    "\n",
    "###in the df3 dataframe, the \"place_with_parents_names\" column has several features put together yet we are interested in the state feature only.\n",
    "## to obtain the feature we sre going to split the column form new sub-columns then slice out the column \"state\" that we are interested in.\n",
    "\n",
    "df3[\"state\"] = df3[\"place_with_parent_names\"].str.split(\"|\", expand=True)[2]\n",
    "\n",
    "## upon then creation of the state column that we was interested in, we need to drop the \n",
    "#columns that we nolonger need. that is the \"lat-lon\" and \"place_with_parents_name\"\n",
    "\n",
    "df3.drop(columns = [\"place_with_parent_names\", \"lat-lon\"], inplace = True)\n",
    "\n",
    "#concatenate row-wise\n",
    "\n",
    "df = pd.concat([df1,df2,df3])\n",
    "\n",
    "df.head()\n",
    "df.shape"
   ]
  },
  {
   "cell_type": "code",
   "execution_count": null,
   "id": "d547e57a-e803-47a3-9064-9a84d3943ed4",
   "metadata": {},
   "outputs": [],
   "source": []
  }
 ],
 "metadata": {
  "kernelspec": {
   "display_name": "Python 3 (ipykernel)",
   "language": "python",
   "name": "python3"
  },
  "language_info": {
   "codemirror_mode": {
    "name": "ipython",
    "version": 3
   },
   "file_extension": ".py",
   "mimetype": "text/x-python",
   "name": "python",
   "nbconvert_exporter": "python",
   "pygments_lexer": "ipython3",
   "version": "3.12.5"
  }
 },
 "nbformat": 4,
 "nbformat_minor": 5
}
