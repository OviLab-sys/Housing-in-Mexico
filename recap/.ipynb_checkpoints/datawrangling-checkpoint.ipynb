{
 "cells": [
  {
   "cell_type": "code",
   "execution_count": 8,
   "id": "7a2db8cc-752c-4657-b738-ec07faa47076",
   "metadata": {},
   "outputs": [
    {
     "name": "stdout",
     "output_type": "stream",
     "text": [
      "<class 'pandas.core.frame.DataFrame'>\n",
      "RangeIndex: 700 entries, 0 to 699\n",
      "Data columns (total 7 columns):\n",
      " #   Column         Non-Null Count  Dtype  \n",
      "---  ------         --------------  -----  \n",
      " 0   Unnamed: 0     700 non-null    int64  \n",
      " 1   property_type  700 non-null    object \n",
      " 2   state          700 non-null    object \n",
      " 3   lat            583 non-null    float64\n",
      " 4   lon            583 non-null    float64\n",
      " 5   area_m2        700 non-null    float64\n",
      " 6   price_usd      700 non-null    object \n",
      "dtypes: float64(3), int64(1), object(3)\n",
      "memory usage: 38.4+ KB\n",
      "<class 'pandas.core.frame.DataFrame'>\n",
      "Index: 583 entries, 0 to 699\n",
      "Data columns (total 7 columns):\n",
      " #   Column         Non-Null Count  Dtype  \n",
      "---  ------         --------------  -----  \n",
      " 0   Unnamed: 0     583 non-null    int64  \n",
      " 1   property_type  583 non-null    object \n",
      " 2   state          583 non-null    object \n",
      " 3   lat            583 non-null    float64\n",
      " 4   lon            583 non-null    float64\n",
      " 5   area_m2        583 non-null    float64\n",
      " 6   price_usd      583 non-null    object \n",
      "dtypes: float64(3), int64(1), object(3)\n",
      "memory usage: 36.4+ KB\n",
      "<class 'pandas.core.frame.DataFrame'>\n",
      "Index: 583 entries, 0 to 699\n",
      "Data columns (total 7 columns):\n",
      " #   Column         Non-Null Count  Dtype  \n",
      "---  ------         --------------  -----  \n",
      " 0   Unnamed: 0     583 non-null    int64  \n",
      " 1   property_type  583 non-null    object \n",
      " 2   state          583 non-null    object \n",
      " 3   lat            583 non-null    float64\n",
      " 4   lon            583 non-null    float64\n",
      " 5   area_m2        583 non-null    float64\n",
      " 6   price_usd      583 non-null    float64\n",
      "dtypes: float64(4), int64(1), object(2)\n",
      "memory usage: 36.4+ KB\n",
      "<class 'pandas.core.frame.DataFrame'>\n",
      "RangeIndex: 700 entries, 0 to 699\n",
      "Data columns (total 7 columns):\n",
      " #   Column         Non-Null Count  Dtype  \n",
      "---  ------         --------------  -----  \n",
      " 0   Unnamed: 0     700 non-null    int64  \n",
      " 1   property_type  700 non-null    object \n",
      " 2   state          700 non-null    object \n",
      " 3   lat            571 non-null    float64\n",
      " 4   lon            571 non-null    float64\n",
      " 5   area_m2        700 non-null    float64\n",
      " 6   price_mxn      700 non-null    float64\n",
      "dtypes: float64(4), int64(1), object(2)\n",
      "memory usage: 38.4+ KB\n"
     ]
    },
    {
     "ename": "TypeError",
     "evalue": "DataFrame.drop() got an unexpected keyword argument 'column'",
     "output_type": "error",
     "traceback": [
      "\u001b[0;31m---------------------------------------------------------------------------\u001b[0m",
      "\u001b[0;31mTypeError\u001b[0m                                 Traceback (most recent call last)",
      "Cell \u001b[0;32mIn[8], line 25\u001b[0m\n\u001b[1;32m     23\u001b[0m \u001b[38;5;66;03m#converting price in mexican pessos to price in usd and droping the column of pricwe in mxn and add the price_usd\u001b[39;00m\n\u001b[1;32m     24\u001b[0m df2[\u001b[38;5;124m\"\u001b[39m\u001b[38;5;124mprice_usd\u001b[39m\u001b[38;5;124m\"\u001b[39m] \u001b[38;5;241m=\u001b[39m (df2[\u001b[38;5;124m\"\u001b[39m\u001b[38;5;124mprice_mxn\u001b[39m\u001b[38;5;124m\"\u001b[39m]\u001b[38;5;241m/\u001b[39m\u001b[38;5;241m19\u001b[39m)\u001b[38;5;241m.\u001b[39mround(\u001b[38;5;241m2\u001b[39m)\n\u001b[0;32m---> 25\u001b[0m \u001b[43mdf2\u001b[49m\u001b[38;5;241;43m.\u001b[39;49m\u001b[43mdrop\u001b[49m\u001b[43m(\u001b[49m\u001b[43mcolumn\u001b[49m\u001b[43m \u001b[49m\u001b[38;5;241;43m=\u001b[39;49m\u001b[43m \u001b[49m\u001b[43m[\u001b[49m\u001b[38;5;124;43m\"\u001b[39;49m\u001b[38;5;124;43mprice_mxn\u001b[39;49m\u001b[38;5;124;43m\"\u001b[39;49m\u001b[43m]\u001b[49m\u001b[43m,\u001b[49m\u001b[43m \u001b[49m\u001b[43minplace\u001b[49m\u001b[38;5;241;43m=\u001b[39;49m\u001b[38;5;28;43;01mTrue\u001b[39;49;00m\u001b[43m)\u001b[49m\n\u001b[1;32m     26\u001b[0m df2\u001b[38;5;241m.\u001b[39minfo()\n",
      "\u001b[0;31mTypeError\u001b[0m: DataFrame.drop() got an unexpected keyword argument 'column'"
     ]
    }
   ],
   "source": [
    "import pandas as pd\n",
    "\n",
    "df1 = pd.read_csv(\"data/mexico-real-estate-1.csv\", sep=\"\\t\" )\n",
    "df2 = pd.read_csv(\"data/mexico-real-estate-2.csv\", sep=\"\\t\")\n",
    "df3 = pd.read_csv(\"data/mexico-real-estate-3.csv\", sep=\"\\t\")\n",
    "\n",
    "df1.info()\n",
    "df1.head(10)\n",
    "df1.dropna(inplace=True)\n",
    "df1.info()\n",
    "df1.head()\n",
    "\n",
    "#removing both \"$\" and \",\" from the price column, as well as converting it to floating point values\n",
    "df1['price_usd'] = df1[\"price_usd\"].str.replace('$', '').str.replace(',','').astype(float)\n",
    "df1.info()\n",
    "df1.head()\n",
    "\n",
    "###cleaning df2\n",
    "\n",
    "#removing NaN\n",
    "df2.info()\n",
    "\n",
    "#converting price in mexican pessos to price in usd and droping the column of pricwe in mxn and add the price_usd\n",
    "df2[\"price_usd\"] = (df2[\"price_mxn\"]/19).round(2)\n",
    "df2.drop(columns = [\"price_mxn\"], inplace=True)\n",
    "df2.info()"
   ]
  },
  {
   "cell_type": "code",
   "execution_count": null,
   "id": "2dd25a4b-4165-4ed2-8f99-16190c43cd91",
   "metadata": {},
   "outputs": [],
   "source": []
  }
 ],
 "metadata": {
  "kernelspec": {
   "display_name": "Python 3 (ipykernel)",
   "language": "python",
   "name": "python3"
  },
  "language_info": {
   "codemirror_mode": {
    "name": "ipython",
    "version": 3
   },
   "file_extension": ".py",
   "mimetype": "text/x-python",
   "name": "python",
   "nbconvert_exporter": "python",
   "pygments_lexer": "ipython3",
   "version": "3.12.5"
  }
 },
 "nbformat": 4,
 "nbformat_minor": 5
}
